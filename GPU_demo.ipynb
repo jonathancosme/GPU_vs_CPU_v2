{
 "cells": [
  {
   "cell_type": "markdown",
   "id": "9f69f6e5-29f9-4e17-a9ac-3b07f526d841",
   "metadata": {},
   "source": [
    "# Start Dask Cluster"
   ]
  },
  {
   "cell_type": "code",
   "execution_count": 1,
   "id": "6d01787a",
   "metadata": {
    "executionInfo": {
     "elapsed": 3708,
     "status": "ok",
     "timestamp": 1649137487780,
     "user": {
      "displayName": "Jonathan Cosme",
      "userId": "03866196755566426705"
     },
     "user_tz": 300
    },
    "id": "6d01787a"
   },
   "outputs": [],
   "source": [
    "from dask.distributed import Client\n",
    "from dask_cuda import LocalCUDACluster\n",
    "import os"
   ]
  },
  {
   "cell_type": "code",
   "execution_count": 2,
   "id": "af11756e-87e1-46df-918d-07058c9987a2",
   "metadata": {},
   "outputs": [
    {
     "data": {
      "text/plain": [
       "0"
      ]
     },
     "execution_count": 2,
     "metadata": {},
     "output_type": "execute_result"
    }
   ],
   "source": [
    "os.system(f\"rm -rf ./dask-worker-space\")"
   ]
  },
  {
   "cell_type": "code",
   "execution_count": 3,
   "id": "2fe57bb8-9e4c-4468-8b96-0262d3c3001c",
   "metadata": {},
   "outputs": [
    {
     "name": "stderr",
     "output_type": "stream",
     "text": [
      "2022-11-20 15:26:25,010 - distributed.preloading - INFO - Creating preload: dask_cuda.initialize\n",
      "2022-11-20 15:26:25,010 - distributed.preloading - INFO - Import preload module: dask_cuda.initialize\n"
     ]
    },
    {
     "data": {
      "text/html": [
       "<div>\n",
       "    <div style=\"width: 24px; height: 24px; background-color: #e1e1e1; border: 3px solid #9D9D9D; border-radius: 5px; position: absolute;\"> </div>\n",
       "    <div style=\"margin-left: 48px;\">\n",
       "        <h3 style=\"margin-bottom: 0px;\">Client</h3>\n",
       "        <p style=\"color: #9D9D9D; margin-bottom: 0px;\">Client-fca62c33-6919-11ed-9587-7c10c9423a31</p>\n",
       "        <table style=\"width: 100%; text-align: left;\">\n",
       "\n",
       "        <tr>\n",
       "        \n",
       "            <td style=\"text-align: left;\"><strong>Connection method:</strong> Cluster object</td>\n",
       "            <td style=\"text-align: left;\"><strong>Cluster type:</strong> dask_cuda.LocalCUDACluster</td>\n",
       "        \n",
       "        </tr>\n",
       "\n",
       "        \n",
       "            <tr>\n",
       "                <td style=\"text-align: left;\">\n",
       "                    <strong>Dashboard: </strong> <a href=\"http://127.0.0.1:8787/status\" target=\"_blank\">http://127.0.0.1:8787/status</a>\n",
       "                </td>\n",
       "                <td style=\"text-align: left;\"></td>\n",
       "            </tr>\n",
       "        \n",
       "\n",
       "        </table>\n",
       "\n",
       "        \n",
       "            <details>\n",
       "            <summary style=\"margin-bottom: 20px;\"><h3 style=\"display: inline;\">Cluster Info</h3></summary>\n",
       "            <div class=\"jp-RenderedHTMLCommon jp-RenderedHTML jp-mod-trusted jp-OutputArea-output\">\n",
       "    <div style=\"width: 24px; height: 24px; background-color: #e1e1e1; border: 3px solid #9D9D9D; border-radius: 5px; position: absolute;\">\n",
       "    </div>\n",
       "    <div style=\"margin-left: 48px;\">\n",
       "        <h3 style=\"margin-bottom: 0px; margin-top: 0px;\">LocalCUDACluster</h3>\n",
       "        <p style=\"color: #9D9D9D; margin-bottom: 0px;\">31448ae8</p>\n",
       "        <table style=\"width: 100%; text-align: left;\">\n",
       "            <tr>\n",
       "                <td style=\"text-align: left;\">\n",
       "                    <strong>Dashboard:</strong> <a href=\"http://127.0.0.1:8787/status\" target=\"_blank\">http://127.0.0.1:8787/status</a>\n",
       "                </td>\n",
       "                <td style=\"text-align: left;\">\n",
       "                    <strong>Workers:</strong> 1\n",
       "                </td>\n",
       "            </tr>\n",
       "            <tr>\n",
       "                <td style=\"text-align: left;\">\n",
       "                    <strong>Total threads:</strong> 1\n",
       "                </td>\n",
       "                <td style=\"text-align: left;\">\n",
       "                    <strong>Total memory:</strong> 125.65 GiB\n",
       "                </td>\n",
       "            </tr>\n",
       "            \n",
       "            <tr>\n",
       "    <td style=\"text-align: left;\"><strong>Status:</strong> running</td>\n",
       "    <td style=\"text-align: left;\"><strong>Using processes:</strong> True</td>\n",
       "</tr>\n",
       "\n",
       "            \n",
       "        </table>\n",
       "\n",
       "        <details>\n",
       "            <summary style=\"margin-bottom: 20px;\">\n",
       "                <h3 style=\"display: inline;\">Scheduler Info</h3>\n",
       "            </summary>\n",
       "\n",
       "            <div style=\"\">\n",
       "    <div>\n",
       "        <div style=\"width: 24px; height: 24px; background-color: #FFF7E5; border: 3px solid #FF6132; border-radius: 5px; position: absolute;\"> </div>\n",
       "        <div style=\"margin-left: 48px;\">\n",
       "            <h3 style=\"margin-bottom: 0px;\">Scheduler</h3>\n",
       "            <p style=\"color: #9D9D9D; margin-bottom: 0px;\">Scheduler-6d3a9bc9-9c7f-48e2-ba09-bba8e4208057</p>\n",
       "            <table style=\"width: 100%; text-align: left;\">\n",
       "                <tr>\n",
       "                    <td style=\"text-align: left;\">\n",
       "                        <strong>Comm:</strong> tcp://127.0.0.1:39331\n",
       "                    </td>\n",
       "                    <td style=\"text-align: left;\">\n",
       "                        <strong>Workers:</strong> 1\n",
       "                    </td>\n",
       "                </tr>\n",
       "                <tr>\n",
       "                    <td style=\"text-align: left;\">\n",
       "                        <strong>Dashboard:</strong> <a href=\"http://127.0.0.1:8787/status\" target=\"_blank\">http://127.0.0.1:8787/status</a>\n",
       "                    </td>\n",
       "                    <td style=\"text-align: left;\">\n",
       "                        <strong>Total threads:</strong> 1\n",
       "                    </td>\n",
       "                </tr>\n",
       "                <tr>\n",
       "                    <td style=\"text-align: left;\">\n",
       "                        <strong>Started:</strong> Just now\n",
       "                    </td>\n",
       "                    <td style=\"text-align: left;\">\n",
       "                        <strong>Total memory:</strong> 125.65 GiB\n",
       "                    </td>\n",
       "                </tr>\n",
       "            </table>\n",
       "        </div>\n",
       "    </div>\n",
       "\n",
       "    <details style=\"margin-left: 48px;\">\n",
       "        <summary style=\"margin-bottom: 20px;\">\n",
       "            <h3 style=\"display: inline;\">Workers</h3>\n",
       "        </summary>\n",
       "\n",
       "        \n",
       "        <div style=\"margin-bottom: 20px;\">\n",
       "            <div style=\"width: 24px; height: 24px; background-color: #DBF5FF; border: 3px solid #4CC9FF; border-radius: 5px; position: absolute;\"> </div>\n",
       "            <div style=\"margin-left: 48px;\">\n",
       "            <details>\n",
       "                <summary>\n",
       "                    <h4 style=\"margin-bottom: 0px; display: inline;\">Worker: 2</h4>\n",
       "                </summary>\n",
       "                <table style=\"width: 100%; text-align: left;\">\n",
       "                    <tr>\n",
       "                        <td style=\"text-align: left;\">\n",
       "                            <strong>Comm: </strong> tcp://127.0.0.1:38917\n",
       "                        </td>\n",
       "                        <td style=\"text-align: left;\">\n",
       "                            <strong>Total threads: </strong> 1\n",
       "                        </td>\n",
       "                    </tr>\n",
       "                    <tr>\n",
       "                        <td style=\"text-align: left;\">\n",
       "                            <strong>Dashboard: </strong> <a href=\"http://127.0.0.1:40319/status\" target=\"_blank\">http://127.0.0.1:40319/status</a>\n",
       "                        </td>\n",
       "                        <td style=\"text-align: left;\">\n",
       "                            <strong>Memory: </strong> 125.65 GiB\n",
       "                        </td>\n",
       "                    </tr>\n",
       "                    <tr>\n",
       "                        <td style=\"text-align: left;\">\n",
       "                            <strong>Nanny: </strong> tcp://127.0.0.1:36827\n",
       "                        </td>\n",
       "                        <td style=\"text-align: left;\"></td>\n",
       "                    </tr>\n",
       "                    <tr>\n",
       "                        <td colspan=\"2\" style=\"text-align: left;\">\n",
       "                            <strong>Local directory: </strong> /tmp/dask-worker-space/worker-9fqnyt0s\n",
       "                        </td>\n",
       "                    </tr>\n",
       "\n",
       "                    \n",
       "                    <tr>\n",
       "                        <td style=\"text-align: left;\">\n",
       "                            <strong>GPU: </strong>NVIDIA GeForce RTX 3090\n",
       "                        </td>\n",
       "                        <td style=\"text-align: left;\">\n",
       "                            <strong>GPU memory: </strong> 24.00 GiB\n",
       "                        </td>\n",
       "                    </tr>\n",
       "                    \n",
       "\n",
       "                    \n",
       "\n",
       "                </table>\n",
       "            </details>\n",
       "            </div>\n",
       "        </div>\n",
       "        \n",
       "\n",
       "    </details>\n",
       "</div>\n",
       "\n",
       "        </details>\n",
       "    </div>\n",
       "</div>\n",
       "            </details>\n",
       "        \n",
       "\n",
       "    </div>\n",
       "</div>"
      ],
      "text/plain": [
       "<Client: 'tcp://127.0.0.1:39331' processes=1 threads=1, memory=125.65 GiB>"
      ]
     },
     "execution_count": 3,
     "metadata": {},
     "output_type": "execute_result"
    }
   ],
   "source": [
    "cluster = LocalCUDACluster(silence_logs=50)\n",
    "client = Client(cluster)\n",
    "client"
   ]
  },
  {
   "cell_type": "markdown",
   "id": "0142c014-6eaa-4ae1-90a1-b76af8f17dc9",
   "metadata": {},
   "source": [
    "# Import other libraries"
   ]
  },
  {
   "cell_type": "code",
   "execution_count": 4,
   "id": "cf8f9957-e9e5-407e-a552-cc55922a2f28",
   "metadata": {},
   "outputs": [],
   "source": [
    "import dask_cudf as pd\n",
    "from cuml.dask.linear_model import LinearRegression\n",
    "from cuml.dask.cluster import KMeans, DBSCAN\n",
    "from cuml.dask.ensemble import RandomForestClassifier\n",
    "from dask_ml.xgboost import XGBClassifier\n",
    "from xgboost.dask import DaskDMatrix\n",
    "import xgboost as xgb\n",
    "from cuml.dask.decomposition import TruncatedSVD, PCA\n",
    "import cupy as np"
   ]
  },
  {
   "cell_type": "markdown",
   "id": "f5fc9697",
   "metadata": {
    "id": "f5fc9697",
    "tags": []
   },
   "source": [
    "# Input filename\n",
    "Adjust the filename to one of the files available in the sample_data folder.  \n",
    "Files are availble publicly for download"
   ]
  },
  {
   "cell_type": "code",
   "execution_count": 5,
   "id": "2c0fa4f3",
   "metadata": {
    "executionInfo": {
     "elapsed": 276,
     "status": "ok",
     "timestamp": 1649137560831,
     "user": {
      "displayName": "Jonathan Cosme",
      "userId": "03866196755566426705"
     },
     "user_tz": 300
    },
    "id": "2c0fa4f3"
   },
   "outputs": [],
   "source": [
    "in_filename = 'sample_data_20m.csv'"
   ]
  },
  {
   "cell_type": "markdown",
   "id": "47228ef1",
   "metadata": {
    "id": "47228ef1",
    "tags": []
   },
   "source": [
    "# Define variables"
   ]
  },
  {
   "cell_type": "code",
   "execution_count": 6,
   "id": "2ab38848",
   "metadata": {
    "executionInfo": {
     "elapsed": 384,
     "status": "ok",
     "timestamp": 1649137561998,
     "user": {
      "displayName": "Jonathan Cosme",
      "userId": "03866196755566426705"
     },
     "user_tz": 300
    },
    "id": "2ab38848"
   },
   "outputs": [],
   "source": [
    "label_col_name = 'is_counterfeit' # the name of the column that contain the labels (0 for negative, 1 for positive)\n",
    "\n",
    "predictor_col_names = ['Size of U.S. market', # the names of the columns that will be used to predict the label\n",
    "                       'Price per unit', \n",
    "                       'RX/OTC', \n",
    "                       'Indication',\n",
    "                       'Drug Class',\n",
    "                       'Shortage',\n",
    "                       'Twitter Mentions'\n",
    "                      ] \n",
    "\n",
    "cetegoric_predictor_col_names = ['RX/OTC', # list of predictor columns that are not values; will use a label encoder on these\n",
    "                                 'Indication',\n",
    "                                 'Drug Class', \n",
    "                                 'Shortage'\n",
    "                                ]\n",
    "\n",
    "# models perform better when values are between 0 and 1. \n",
    "# thus, we use a scaling value to attempt to do this\n",
    "scaling_dict = {'Size of U.S. market': 1/100000000000, # each column in this dictionary will be multiplied by the values here\n",
    "                'Price per unit': 1/10000,\n",
    "                'Twitter Mentions': 1/200000\n",
    "               }\n",
    "\n",
    "val_set_percent = 0.1 # percent of data to be reserved for validation\n",
    "test_set_percent = 0.1 # percent of data to be reserved for testing\n",
    "\n",
    "chunksize = \"100MB\"\n",
    "blocksize = \"100MB\"\n",
    "\n",
    "random_seed = 42 # to make results reproducible"
   ]
  },
  {
   "cell_type": "code",
   "execution_count": 7,
   "id": "41d0f28d",
   "metadata": {
    "executionInfo": {
     "elapsed": 3,
     "status": "ok",
     "timestamp": 1649137562412,
     "user": {
      "displayName": "Jonathan Cosme",
      "userId": "03866196755566426705"
     },
     "user_tz": 300
    },
    "id": "41d0f28d"
   },
   "outputs": [],
   "source": [
    "out_filename = 'write_speed_test_gpu.csv'\n",
    "in_filename = './sample_data/' + in_filename\n",
    "out_filename = './output_data/' + out_filename"
   ]
  },
  {
   "cell_type": "markdown",
   "id": "4bccfd3b-0e9f-481e-953b-53b09c8c014b",
   "metadata": {},
   "source": [
    "# Define class for temp file names"
   ]
  },
  {
   "cell_type": "code",
   "execution_count": 8,
   "id": "28379b94-950f-473f-b35d-67ba35685795",
   "metadata": {},
   "outputs": [],
   "source": [
    "class TempFileNameSwitcher:\n",
    "    def __init__(self):\n",
    "        self.temp_names = ['./output_data/temp_1.csv', './output_data/temp_2.csv']\n",
    "        self.cur_iter = 0\n",
    "        self.name = self.temp_names[self.cur_iter]\n",
    "        for a_name in self.temp_names:\n",
    "            try:\n",
    "                os.system(f\"rm -rf {a_name}\")\n",
    "            except:\n",
    "                pass\n",
    "            try:\n",
    "                os.system(f\"rm -f {a_name}\")\n",
    "            except:\n",
    "                pass\n",
    "        \n",
    "    def switch(self):\n",
    "        self.cur_iter += 1\n",
    "        name_i = self.cur_iter % len(self.temp_names)\n",
    "        self.name = self.temp_names[name_i]"
   ]
  },
  {
   "cell_type": "code",
   "execution_count": 9,
   "id": "e001ba10-ad7e-4e3d-b1c7-a1c539d8fafc",
   "metadata": {},
   "outputs": [],
   "source": [
    "temp_file_name_switcher = TempFileNameSwitcher()"
   ]
  },
  {
   "cell_type": "markdown",
   "id": "bcdfac85-4336-4aac-8c59-ba1da1a37a3b",
   "metadata": {},
   "source": [
    "# ETL"
   ]
  },
  {
   "cell_type": "markdown",
   "id": "b7e3b26d-e4ff-4178-aacb-103ce6ab4380",
   "metadata": {},
   "source": [
    "## Single CSV file"
   ]
  },
  {
   "cell_type": "markdown",
   "id": "5911e639-1097-47ff-b8fc-ba0bd869ca0d",
   "metadata": {},
   "source": [
    "### read"
   ]
  },
  {
   "cell_type": "code",
   "execution_count": 10,
   "id": "a7f8f8e4-362c-40f1-b24d-215f16e97143",
   "metadata": {},
   "outputs": [],
   "source": [
    "df = pd.read_csv(in_filename, chunksize=chunksize)"
   ]
  },
  {
   "cell_type": "code",
   "execution_count": 11,
   "id": "69c741dd-f527-4446-bb48-1d7b27d78b81",
   "metadata": {},
   "outputs": [
    {
     "name": "stdout",
     "output_type": "stream",
     "text": [
      "CPU times: user 1 s, sys: 1.07 s, total: 2.07 s\n",
      "Wall time: 6.39 s\n"
     ]
    }
   ],
   "source": [
    "%%time\n",
    "_ = df.compute()"
   ]
  },
  {
   "cell_type": "markdown",
   "id": "75018a2c-5d3e-42ed-9e5f-2b2b1ac1c1f5",
   "metadata": {},
   "source": [
    "### write"
   ]
  },
  {
   "cell_type": "code",
   "execution_count": 12,
   "id": "4c8e153d-0991-4572-983a-48bf3fcb30ed",
   "metadata": {},
   "outputs": [
    {
     "data": {
      "text/plain": [
       "0"
      ]
     },
     "execution_count": 12,
     "metadata": {},
     "output_type": "execute_result"
    }
   ],
   "source": [
    "os.system(f\"rm -rf {out_filename}\")\n",
    "os.system(f\"rm -f {out_filename}\")"
   ]
  },
  {
   "cell_type": "code",
   "execution_count": 13,
   "id": "559549db-5c41-4c68-bb97-3a5943c21e5b",
   "metadata": {},
   "outputs": [
    {
     "name": "stdout",
     "output_type": "stream",
     "text": [
      "CPU times: user 101 ms, sys: 5.13 ms, total: 106 ms\n",
      "Wall time: 3.4 s\n"
     ]
    },
    {
     "data": {
      "text/plain": [
       "['/home/jcosme/proj/GPU_vs_CPU_v2/output_data/write_speed_test_gpu.csv']"
      ]
     },
     "execution_count": 13,
     "metadata": {},
     "output_type": "execute_result"
    }
   ],
   "source": [
    "%%time\n",
    "df.to_csv(out_filename, index=False, single_file=True)"
   ]
  },
  {
   "cell_type": "markdown",
   "id": "c4bdadb2-6367-4d5c-8d43-3b1bc8680d88",
   "metadata": {},
   "source": [
    "## Multiple CSV files"
   ]
  },
  {
   "cell_type": "code",
   "execution_count": 14,
   "id": "1f730929-6cba-4495-856a-0ffc0c386852",
   "metadata": {},
   "outputs": [
    {
     "data": {
      "text/plain": [
       "0"
      ]
     },
     "execution_count": 14,
     "metadata": {},
     "output_type": "execute_result"
    }
   ],
   "source": [
    "os.system(f\"rm -rf {out_filename}\")\n",
    "os.system(f\"rm -f {out_filename}\")"
   ]
  },
  {
   "cell_type": "markdown",
   "id": "0d611aa1-9094-4fff-b3b2-c856aaed9e74",
   "metadata": {},
   "source": [
    "### write"
   ]
  },
  {
   "cell_type": "code",
   "execution_count": 15,
   "id": "224085c6-fd8a-424d-ba11-9e8b2e026ae1",
   "metadata": {},
   "outputs": [
    {
     "name": "stdout",
     "output_type": "stream",
     "text": [
      "CPU times: user 98.7 ms, sys: 15.9 ms, total: 115 ms\n",
      "Wall time: 3.41 s\n"
     ]
    },
    {
     "data": {
      "text/plain": [
       "['/home/jcosme/proj/GPU_vs_CPU_v2/output_data/write_speed_test_gpu.csv/00.part',\n",
       " '/home/jcosme/proj/GPU_vs_CPU_v2/output_data/write_speed_test_gpu.csv/01.part',\n",
       " '/home/jcosme/proj/GPU_vs_CPU_v2/output_data/write_speed_test_gpu.csv/02.part',\n",
       " '/home/jcosme/proj/GPU_vs_CPU_v2/output_data/write_speed_test_gpu.csv/03.part',\n",
       " '/home/jcosme/proj/GPU_vs_CPU_v2/output_data/write_speed_test_gpu.csv/04.part',\n",
       " '/home/jcosme/proj/GPU_vs_CPU_v2/output_data/write_speed_test_gpu.csv/05.part',\n",
       " '/home/jcosme/proj/GPU_vs_CPU_v2/output_data/write_speed_test_gpu.csv/06.part',\n",
       " '/home/jcosme/proj/GPU_vs_CPU_v2/output_data/write_speed_test_gpu.csv/07.part',\n",
       " '/home/jcosme/proj/GPU_vs_CPU_v2/output_data/write_speed_test_gpu.csv/08.part',\n",
       " '/home/jcosme/proj/GPU_vs_CPU_v2/output_data/write_speed_test_gpu.csv/09.part',\n",
       " '/home/jcosme/proj/GPU_vs_CPU_v2/output_data/write_speed_test_gpu.csv/10.part',\n",
       " '/home/jcosme/proj/GPU_vs_CPU_v2/output_data/write_speed_test_gpu.csv/11.part',\n",
       " '/home/jcosme/proj/GPU_vs_CPU_v2/output_data/write_speed_test_gpu.csv/12.part',\n",
       " '/home/jcosme/proj/GPU_vs_CPU_v2/output_data/write_speed_test_gpu.csv/13.part',\n",
       " '/home/jcosme/proj/GPU_vs_CPU_v2/output_data/write_speed_test_gpu.csv/14.part',\n",
       " '/home/jcosme/proj/GPU_vs_CPU_v2/output_data/write_speed_test_gpu.csv/15.part',\n",
       " '/home/jcosme/proj/GPU_vs_CPU_v2/output_data/write_speed_test_gpu.csv/16.part',\n",
       " '/home/jcosme/proj/GPU_vs_CPU_v2/output_data/write_speed_test_gpu.csv/17.part',\n",
       " '/home/jcosme/proj/GPU_vs_CPU_v2/output_data/write_speed_test_gpu.csv/18.part',\n",
       " '/home/jcosme/proj/GPU_vs_CPU_v2/output_data/write_speed_test_gpu.csv/19.part',\n",
       " '/home/jcosme/proj/GPU_vs_CPU_v2/output_data/write_speed_test_gpu.csv/20.part',\n",
       " '/home/jcosme/proj/GPU_vs_CPU_v2/output_data/write_speed_test_gpu.csv/21.part']"
      ]
     },
     "execution_count": 15,
     "metadata": {},
     "output_type": "execute_result"
    }
   ],
   "source": [
    "%%time\n",
    "df.to_csv(out_filename, index=False)"
   ]
  },
  {
   "cell_type": "markdown",
   "id": "8f78f123-7ad0-4355-b14b-da7676e24756",
   "metadata": {},
   "source": [
    "### read"
   ]
  },
  {
   "cell_type": "code",
   "execution_count": 16,
   "id": "edb82973-67ab-459a-8c1a-ef94673813e6",
   "metadata": {},
   "outputs": [],
   "source": [
    "df = pd.read_csv(f\"{out_filename}/*\", chunksize=chunksize)"
   ]
  },
  {
   "cell_type": "code",
   "execution_count": 17,
   "id": "f0adb4fc-6fe3-4b31-a2d2-565fc3f67f72",
   "metadata": {},
   "outputs": [
    {
     "name": "stdout",
     "output_type": "stream",
     "text": [
      "CPU times: user 979 ms, sys: 975 ms, total: 1.95 s\n",
      "Wall time: 5.19 s\n"
     ]
    }
   ],
   "source": [
    "%%time\n",
    "_ = df.compute()"
   ]
  },
  {
   "cell_type": "markdown",
   "id": "f3dbb602-8397-46a7-a657-b426cf5c1e6d",
   "metadata": {
    "id": "f3dbb602-8397-46a7-a657-b426cf5c1e6d"
   },
   "source": [
    "## Common DataFrame Operations"
   ]
  },
  {
   "cell_type": "code",
   "execution_count": 18,
   "id": "470bb000-9936-4865-9fdd-16e4c4153a01",
   "metadata": {},
   "outputs": [],
   "source": [
    "df = pd.read_csv(in_filename, chunksize=chunksize)"
   ]
  },
  {
   "cell_type": "markdown",
   "id": "173b4d5b-6659-4a19-959e-7acd8cc4d197",
   "metadata": {
    "id": "173b4d5b-6659-4a19-959e-7acd8cc4d197"
   },
   "source": [
    "### describe the dataframe"
   ]
  },
  {
   "cell_type": "code",
   "execution_count": 19,
   "id": "5bfc39f8-7ffc-43d7-aecb-ed2779d5c5e6",
   "metadata": {
    "colab": {
     "base_uri": "https://localhost:8080/",
     "height": 335
    },
    "executionInfo": {
     "elapsed": 1717,
     "status": "ok",
     "timestamp": 1649137949938,
     "user": {
      "displayName": "Jonathan Cosme",
      "userId": "03866196755566426705"
     },
     "user_tz": 300
    },
    "id": "5bfc39f8-7ffc-43d7-aecb-ed2779d5c5e6",
    "outputId": "d2bb465b-aa11-4af4-bb4f-64084d77f0b3"
   },
   "outputs": [
    {
     "name": "stdout",
     "output_type": "stream",
     "text": [
      "CPU times: user 374 ms, sys: 19.4 ms, total: 393 ms\n",
      "Wall time: 2.32 s\n"
     ]
    },
    {
     "data": {
      "text/html": [
       "<div>\n",
       "<style scoped>\n",
       "    .dataframe tbody tr th:only-of-type {\n",
       "        vertical-align: middle;\n",
       "    }\n",
       "\n",
       "    .dataframe tbody tr th {\n",
       "        vertical-align: top;\n",
       "    }\n",
       "\n",
       "    .dataframe thead th {\n",
       "        text-align: right;\n",
       "    }\n",
       "</style>\n",
       "<table border=\"1\" class=\"dataframe\">\n",
       "  <thead>\n",
       "    <tr style=\"text-align: right;\">\n",
       "      <th></th>\n",
       "      <th>Price per unit</th>\n",
       "      <th>SNOMED</th>\n",
       "      <th>Size of U.S. market</th>\n",
       "      <th>Twitter Mentions</th>\n",
       "      <th>is_counterfeit</th>\n",
       "    </tr>\n",
       "  </thead>\n",
       "  <tbody>\n",
       "    <tr>\n",
       "      <th>count</th>\n",
       "      <td>2.000000e+07</td>\n",
       "      <td>2.000000e+07</td>\n",
       "      <td>2.000000e+07</td>\n",
       "      <td>2.000000e+07</td>\n",
       "      <td>2.000000e+07</td>\n",
       "    </tr>\n",
       "    <tr>\n",
       "      <th>mean</th>\n",
       "      <td>2.073848e+02</td>\n",
       "      <td>2.584983e+08</td>\n",
       "      <td>2.319031e+09</td>\n",
       "      <td>9.099047e+03</td>\n",
       "      <td>3.800000e-01</td>\n",
       "    </tr>\n",
       "    <tr>\n",
       "      <th>std</th>\n",
       "      <td>3.072970e+02</td>\n",
       "      <td>2.758066e+08</td>\n",
       "      <td>3.181265e+09</td>\n",
       "      <td>5.702964e+03</td>\n",
       "      <td>4.853865e-01</td>\n",
       "    </tr>\n",
       "    <tr>\n",
       "      <th>min</th>\n",
       "      <td>1.000000e-01</td>\n",
       "      <td>7.321101e+07</td>\n",
       "      <td>1.002100e+04</td>\n",
       "      <td>0.000000e+00</td>\n",
       "      <td>0.000000e+00</td>\n",
       "    </tr>\n",
       "    <tr>\n",
       "      <th>25%</th>\n",
       "      <td>2.540000e+00</td>\n",
       "      <td>8.065901e+07</td>\n",
       "      <td>4.998731e+07</td>\n",
       "      <td>6.250000e+03</td>\n",
       "      <td>0.000000e+00</td>\n",
       "    </tr>\n",
       "    <tr>\n",
       "      <th>50%</th>\n",
       "      <td>6.748000e+01</td>\n",
       "      <td>1.192920e+08</td>\n",
       "      <td>1.742948e+09</td>\n",
       "      <td>1.061900e+04</td>\n",
       "      <td>1.000000e+00</td>\n",
       "    </tr>\n",
       "    <tr>\n",
       "      <th>75%</th>\n",
       "      <td>6.904000e+02</td>\n",
       "      <td>3.736210e+08</td>\n",
       "      <td>7.259270e+09</td>\n",
       "      <td>1.688200e+04</td>\n",
       "      <td>1.000000e+00</td>\n",
       "    </tr>\n",
       "    <tr>\n",
       "      <th>max</th>\n",
       "      <td>1.000000e+03</td>\n",
       "      <td>8.403580e+08</td>\n",
       "      <td>9.999998e+09</td>\n",
       "      <td>2.000000e+04</td>\n",
       "      <td>1.000000e+00</td>\n",
       "    </tr>\n",
       "  </tbody>\n",
       "</table>\n",
       "</div>"
      ],
      "text/plain": [
       "       Price per unit        SNOMED  Size of U.S. market  Twitter Mentions  \\\n",
       "count    2.000000e+07  2.000000e+07         2.000000e+07      2.000000e+07   \n",
       "mean     2.073848e+02  2.584983e+08         2.319031e+09      9.099047e+03   \n",
       "std      3.072970e+02  2.758066e+08         3.181265e+09      5.702964e+03   \n",
       "min      1.000000e-01  7.321101e+07         1.002100e+04      0.000000e+00   \n",
       "25%      2.540000e+00  8.065901e+07         4.998731e+07      6.250000e+03   \n",
       "50%      6.748000e+01  1.192920e+08         1.742948e+09      1.061900e+04   \n",
       "75%      6.904000e+02  3.736210e+08         7.259270e+09      1.688200e+04   \n",
       "max      1.000000e+03  8.403580e+08         9.999998e+09      2.000000e+04   \n",
       "\n",
       "       is_counterfeit  \n",
       "count    2.000000e+07  \n",
       "mean     3.800000e-01  \n",
       "std      4.853865e-01  \n",
       "min      0.000000e+00  \n",
       "25%      0.000000e+00  \n",
       "50%      1.000000e+00  \n",
       "75%      1.000000e+00  \n",
       "max      1.000000e+00  "
      ]
     },
     "execution_count": 19,
     "metadata": {},
     "output_type": "execute_result"
    }
   ],
   "source": [
    "%%time\n",
    "df.describe().compute()"
   ]
  },
  {
   "cell_type": "markdown",
   "id": "14e786b7-2525-43e0-b5bf-6535a0947f2d",
   "metadata": {
    "id": "14e786b7-2525-43e0-b5bf-6535a0947f2d"
   },
   "source": [
    "### Set Index\n",
    "for each categorical variable, set the DataFrame index to that variable\n",
    "  \n",
    "**note:** dask dataframes have a 'set_index' method, but it is slower than applying the 'et_index' method to each partition (so we will use the latter method)."
   ]
  },
  {
   "cell_type": "code",
   "execution_count": 20,
   "id": "dbbfb7d8-7162-4b79-a842-c1022f696cba",
   "metadata": {},
   "outputs": [],
   "source": [
    "def set_cat_index(df, a_cat):\n",
    "    return df.set_index(a_cat)"
   ]
  },
  {
   "cell_type": "code",
   "execution_count": 21,
   "id": "25292546-1479-43f6-935c-d57919347fe2",
   "metadata": {
    "colab": {
     "base_uri": "https://localhost:8080/"
    },
    "executionInfo": {
     "elapsed": 724,
     "status": "ok",
     "timestamp": 1649137952069,
     "user": {
      "displayName": "Jonathan Cosme",
      "userId": "03866196755566426705"
     },
     "user_tz": 300
    },
    "id": "25292546-1479-43f6-935c-d57919347fe2",
    "outputId": "fd17010c-128a-4350-b348-bede10542176"
   },
   "outputs": [
    {
     "name": "stdout",
     "output_type": "stream",
     "text": [
      "RX/OTC\n",
      "Indication\n",
      "Drug Class\n",
      "Shortage\n",
      "CPU times: user 3.71 s, sys: 3.92 s, total: 7.63 s\n",
      "Wall time: 20.8 s\n"
     ]
    }
   ],
   "source": [
    "%%time\n",
    "for a_cat in cetegoric_predictor_col_names:\n",
    "    print(a_cat)\n",
    "    _ = df.map_partitions(set_cat_index, a_cat).compute()"
   ]
  },
  {
   "cell_type": "markdown",
   "id": "43cfa654-f85f-4064-b57f-6e82a80803d7",
   "metadata": {
    "id": "43cfa654-f85f-4064-b57f-6e82a80803d7"
   },
   "source": [
    "### Concat multiple DataFrames\n",
    "concatenate 3 copies of the DF"
   ]
  },
  {
   "cell_type": "code",
   "execution_count": 22,
   "id": "169837d8-3e91-4bb3-8f1c-a95614cc4bd1",
   "metadata": {
    "colab": {
     "base_uri": "https://localhost:8080/"
    },
    "executionInfo": {
     "elapsed": 295,
     "status": "ok",
     "timestamp": 1649137954690,
     "user": {
      "displayName": "Jonathan Cosme",
      "userId": "03866196755566426705"
     },
     "user_tz": 300
    },
    "id": "169837d8-3e91-4bb3-8f1c-a95614cc4bd1",
    "outputId": "58cfaaf7-ef38-4c66-a6e5-632fb1e35768"
   },
   "outputs": [
    {
     "name": "stdout",
     "output_type": "stream",
     "text": [
      "CPU times: user 2.76 s, sys: 2.81 s, total: 5.57 s\n",
      "Wall time: 13.4 s\n"
     ]
    }
   ],
   "source": [
    "%%time\n",
    "_ = pd.concat([df] * 3, ignore_index=True).compute()"
   ]
  },
  {
   "cell_type": "markdown",
   "id": "b86df6a3-1539-4c8e-9249-91ffdc698d6a",
   "metadata": {
    "id": "b86df6a3-1539-4c8e-9249-91ffdc698d6a",
    "tags": []
   },
   "source": [
    "### Groupby function\n",
    "for each value column, we calculate the mean by grouping by each categorical variable"
   ]
  },
  {
   "cell_type": "code",
   "execution_count": 23,
   "id": "91a4cd1b-2e14-46ef-ba3c-41d3987bcf1a",
   "metadata": {},
   "outputs": [
    {
     "data": {
      "text/plain": [
       "['Twitter Mentions', 'Size of U.S. market', 'Price per unit']"
      ]
     },
     "execution_count": 23,
     "metadata": {},
     "output_type": "execute_result"
    }
   ],
   "source": [
    "non_cetegoric_predictor_col_names = list(set(predictor_col_names).difference(set(cetegoric_predictor_col_names)))\n",
    "non_cetegoric_predictor_col_names"
   ]
  },
  {
   "cell_type": "code",
   "execution_count": 24,
   "id": "52471a46-3083-4e1d-bdaa-b7a71eee10d2",
   "metadata": {
    "colab": {
     "base_uri": "https://localhost:8080/"
    },
    "executionInfo": {
     "elapsed": 627,
     "status": "ok",
     "timestamp": 1649137959268,
     "user": {
      "displayName": "Jonathan Cosme",
      "userId": "03866196755566426705"
     },
     "user_tz": 300
    },
    "id": "52471a46-3083-4e1d-bdaa-b7a71eee10d2",
    "outputId": "4e718eb8-19a3-4037-9d49-3fa7131e5e43"
   },
   "outputs": [
    {
     "name": "stdout",
     "output_type": "stream",
     "text": [
      "RX/OTC\n",
      "\tTwitter Mentions\n",
      "\tSize of U.S. market\n",
      "\tPrice per unit\n",
      "Indication\n",
      "\tTwitter Mentions\n",
      "\tSize of U.S. market\n",
      "\tPrice per unit\n",
      "Drug Class\n",
      "\tTwitter Mentions\n",
      "\tSize of U.S. market\n",
      "\tPrice per unit\n",
      "Shortage\n",
      "\tTwitter Mentions\n",
      "\tSize of U.S. market\n",
      "\tPrice per unit\n",
      "CPU times: user 877 ms, sys: 90 ms, total: 967 ms\n",
      "Wall time: 11.5 s\n"
     ]
    }
   ],
   "source": [
    "%%time\n",
    "for a_cat in cetegoric_predictor_col_names:\n",
    "    print(a_cat)\n",
    "    for a_col in non_cetegoric_predictor_col_names:\n",
    "        print(f\"\\t{a_col}\")\n",
    "        _ = df.groupby(a_cat)[a_col].mean().compute()"
   ]
  },
  {
   "cell_type": "markdown",
   "id": "f57f1437",
   "metadata": {
    "id": "f57f1437"
   },
   "source": [
    "## Preprocess data"
   ]
  },
  {
   "cell_type": "code",
   "execution_count": 25,
   "id": "c3825c96",
   "metadata": {
    "executionInfo": {
     "elapsed": 253,
     "status": "ok",
     "timestamp": 1649137961416,
     "user": {
      "displayName": "Jonathan Cosme",
      "userId": "03866196755566426705"
     },
     "user_tz": 300
    },
    "id": "c3825c96"
   },
   "outputs": [],
   "source": [
    "df_input = df.copy()"
   ]
  },
  {
   "cell_type": "markdown",
   "id": "5a283b33",
   "metadata": {
    "id": "5a283b33"
   },
   "source": [
    "### fit label encoder\n",
    "dask_cuda allows us to convert a column into a 'category' type, and we can use the .cat.categories method of the column (Series) to get the categories.  \n",
    "As such, we do not need to fit a label encoder."
   ]
  },
  {
   "cell_type": "code",
   "execution_count": 26,
   "id": "9ecf777b",
   "metadata": {
    "colab": {
     "base_uri": "https://localhost:8080/"
    },
    "executionInfo": {
     "elapsed": 2993,
     "status": "ok",
     "timestamp": 1649137967139,
     "user": {
      "displayName": "Jonathan Cosme",
      "userId": "03866196755566426705"
     },
     "user_tz": 300
    },
    "id": "9ecf777b",
    "outputId": "3270c21f-a761-4547-efed-f2ec8e53595a"
   },
   "outputs": [
    {
     "name": "stdout",
     "output_type": "stream",
     "text": [
      "RX/OTC\n",
      "Indication\n",
      "Shortage\n",
      "Drug Class\n",
      "CPU times: user 120 ms, sys: 594 µs, total: 121 ms\n",
      "Wall time: 528 ms\n"
     ]
    }
   ],
   "source": [
    "%%time\n",
    "cats_dict = {}\n",
    "for col in df_input.columns:\n",
    "    if col in cetegoric_predictor_col_names:\n",
    "        print(col)\n",
    "        df_input[col] = df_input[col].astype('category').cat.as_known()\n",
    "        cats_dict[col] = df_input.head()[col].cat.categories"
   ]
  },
  {
   "cell_type": "markdown",
   "id": "0ad8819a",
   "metadata": {
    "id": "0ad8819a"
   },
   "source": [
    "### encode categoric columns\n",
    "We can use the build in .cat.codes method of a 'category'-type column (series) to encode the values"
   ]
  },
  {
   "cell_type": "code",
   "execution_count": 27,
   "id": "614990f0-cdce-47ed-9a60-8fa3abf94b17",
   "metadata": {},
   "outputs": [],
   "source": [
    "def get_cat_codes(df, cols):\n",
    "    for col in cols:\n",
    "        df[col] = df[col].cat.codes\n",
    "    return df\n",
    "df_input[cetegoric_predictor_col_names] = df_input[cetegoric_predictor_col_names].map_partitions(get_cat_codes, cetegoric_predictor_col_names, meta=get_cat_codes(df_input[cetegoric_predictor_col_names].head(), cetegoric_predictor_col_names))"
   ]
  },
  {
   "cell_type": "code",
   "execution_count": 28,
   "id": "394fd6af",
   "metadata": {
    "colab": {
     "base_uri": "https://localhost:8080/"
    },
    "executionInfo": {
     "elapsed": 4390,
     "status": "ok",
     "timestamp": 1649137973367,
     "user": {
      "displayName": "Jonathan Cosme",
      "userId": "03866196755566426705"
     },
     "user_tz": 300
    },
    "id": "394fd6af",
    "outputId": "a48ecb53-4fee-43a6-c582-daffbc24567e"
   },
   "outputs": [
    {
     "name": "stdout",
     "output_type": "stream",
     "text": [
      "CPU times: user 593 ms, sys: 458 ms, total: 1.05 s\n",
      "Wall time: 5.81 s\n"
     ]
    }
   ],
   "source": [
    "%%time\n",
    "_ = df_input.compute()"
   ]
  },
  {
   "cell_type": "markdown",
   "id": "1ce80bf9-f160-4e23-a577-bab64c704c9e",
   "metadata": {},
   "source": [
    "we save a temporary file, and reload the data from this file, so we can isolate the computation time of the next transformation (scale value variable columns)"
   ]
  },
  {
   "cell_type": "code",
   "execution_count": 29,
   "id": "a58bcbbb-7798-4360-84bd-81bd1dab03c7",
   "metadata": {},
   "outputs": [
    {
     "name": "stdout",
     "output_type": "stream",
     "text": [
      "CPU times: user 179 ms, sys: 19.7 ms, total: 199 ms\n",
      "Wall time: 4.79 s\n"
     ]
    },
    {
     "data": {
      "text/plain": [
       "0"
      ]
     },
     "execution_count": 29,
     "metadata": {},
     "output_type": "execute_result"
    }
   ],
   "source": [
    "%%time\n",
    "old_name = temp_file_name_switcher.name\n",
    "temp_file_name_switcher.switch()\n",
    "_ = df_input.to_csv(temp_file_name_switcher.name, index=False)\n",
    "df_input = pd.read_csv(f\"{temp_file_name_switcher.name}/*\")\n",
    "os.system(f\"rm -rf {old_name}\")"
   ]
  },
  {
   "cell_type": "markdown",
   "id": "427d4065",
   "metadata": {
    "id": "427d4065"
   },
   "source": [
    "### scale value variable columns\n",
    "Next we apply the scaling by the variable 'scaling_dict' defined at the top of the notebook"
   ]
  },
  {
   "cell_type": "code",
   "execution_count": 30,
   "id": "484305f2",
   "metadata": {
    "colab": {
     "base_uri": "https://localhost:8080/"
    },
    "executionInfo": {
     "elapsed": 254,
     "status": "ok",
     "timestamp": 1649137977628,
     "user": {
      "displayName": "Jonathan Cosme",
      "userId": "03866196755566426705"
     },
     "user_tz": 300
    },
    "id": "484305f2",
    "outputId": "f244b43a-a861-441f-9eb8-5100637e272b"
   },
   "outputs": [
    {
     "name": "stdout",
     "output_type": "stream",
     "text": [
      "CPU times: user 708 ms, sys: 562 ms, total: 1.27 s\n",
      "Wall time: 3.53 s\n"
     ]
    }
   ],
   "source": [
    "%%time\n",
    "for col in scaling_dict.keys():\n",
    "    df_input[col] = df_input[col] * scaling_dict[col]\n",
    "_ = df_input.compute()"
   ]
  },
  {
   "cell_type": "markdown",
   "id": "06e07430-1d03-45d6-8556-421a69d7d43e",
   "metadata": {},
   "source": [
    "we save a temporary file, and reload the data from this file, so we can isolate the computation time of the next transformation (train/val/test split).  "
   ]
  },
  {
   "cell_type": "code",
   "execution_count": 31,
   "id": "f0508612-06a5-4a00-be34-0998b5251593",
   "metadata": {},
   "outputs": [
    {
     "name": "stdout",
     "output_type": "stream",
     "text": [
      "CPU times: user 110 ms, sys: 28.7 ms, total: 139 ms\n",
      "Wall time: 2.36 s\n"
     ]
    },
    {
     "data": {
      "text/plain": [
       "0"
      ]
     },
     "execution_count": 31,
     "metadata": {},
     "output_type": "execute_result"
    }
   ],
   "source": [
    "%%time\n",
    "old_name = temp_file_name_switcher.name\n",
    "temp_file_name_switcher.switch()\n",
    "_ = df_input.to_csv(temp_file_name_switcher.name, index=False)\n",
    "df_input = pd.read_csv(f\"{temp_file_name_switcher.name}/*\")\n",
    "os.system(f\"rm -rf {old_name}\")"
   ]
  },
  {
   "cell_type": "markdown",
   "id": "cdac3e60-2d69-48ae-8a26-9d0a73f7a4ec",
   "metadata": {},
   "source": [
    "## train/val/test split"
   ]
  },
  {
   "cell_type": "code",
   "execution_count": 32,
   "id": "0fea2c9a-faa7-40cf-96b7-5a51ff379c3f",
   "metadata": {},
   "outputs": [],
   "source": [
    "not_train_prct = val_set_percent + test_set_percent\n",
    "train_prct = 1. - not_train_prct"
   ]
  },
  {
   "cell_type": "code",
   "execution_count": 33,
   "id": "4370fd6c-9a73-4252-94c2-5a58370cba49",
   "metadata": {},
   "outputs": [],
   "source": [
    "df_train, df_val, df_test = df_input.random_split([train_prct, val_set_percent, test_set_percent], random_state=random_seed)"
   ]
  },
  {
   "cell_type": "code",
   "execution_count": 34,
   "id": "bc82150b-0f65-45df-9987-1d75ffa1a932",
   "metadata": {},
   "outputs": [
    {
     "name": "stdout",
     "output_type": "stream",
     "text": [
      "CPU times: user 1.04 s, sys: 759 ms, total: 1.8 s\n",
      "Wall time: 6.54 s\n"
     ]
    }
   ],
   "source": [
    "%%time\n",
    "_ = df_train.compute()\n",
    "_ = df_val.compute()\n",
    "_ = df_test.compute()"
   ]
  },
  {
   "cell_type": "code",
   "execution_count": 35,
   "id": "246f492a-dbb7-40b5-98b2-25f7674f2676",
   "metadata": {},
   "outputs": [],
   "source": [
    "X_train = df_train[predictor_col_names].copy().astype(float)\n",
    "y_train = df_train[label_col_name].copy().astype(float)\n",
    "\n",
    "X_val = df_val[predictor_col_names].copy().astype(float)\n",
    "y_val = df_val[label_col_name].copy().astype(float)\n",
    "\n",
    "X_test = df_test[predictor_col_names].copy().astype(float)\n",
    "y_test = df_test[label_col_name].copy().astype(float)"
   ]
  },
  {
   "cell_type": "markdown",
   "id": "efc84ad9-ee78-4a79-bb40-5999decaed87",
   "metadata": {},
   "source": [
    "we save temporary files for each split, and reload them from this file, so we can isolate the computation time of the next operations (dimensionality reduction & model fitting)."
   ]
  },
  {
   "cell_type": "code",
   "execution_count": 36,
   "id": "25276834-3d2c-47bf-8b0b-e410454abb1b",
   "metadata": {},
   "outputs": [
    {
     "data": {
      "text/plain": [
       "0"
      ]
     },
     "execution_count": 36,
     "metadata": {},
     "output_type": "execute_result"
    }
   ],
   "source": [
    "os.system(f\"rm -rf ./output_data/X_train\")\n",
    "os.system(f\"rm -rf ./output_data/y_train\")\n",
    "\n",
    "os.system(f\"rm -rf ./output_data/X_val\")\n",
    "os.system(f\"rm -rf ./output_data/y_val\")\n",
    "\n",
    "os.system(f\"rm -rf ./output_data/X_test\")\n",
    "os.system(f\"rm -rf ./output_data/y_test\")"
   ]
  },
  {
   "cell_type": "code",
   "execution_count": 37,
   "id": "7fb85fe3-cac4-4d9b-97a9-621cddf9e9aa",
   "metadata": {},
   "outputs": [
    {
     "name": "stdout",
     "output_type": "stream",
     "text": [
      "CPU times: user 709 ms, sys: 67.8 ms, total: 777 ms\n",
      "Wall time: 8.19 s\n"
     ]
    }
   ],
   "source": [
    "%%time\n",
    "_ = X_train.to_csv('./output_data/X_train', index=False)\n",
    "_ = y_train.to_frame().to_csv('./output_data/y_train', index=False)\n",
    "\n",
    "_ = X_val.to_csv('./output_data/X_val', index=False)\n",
    "_ = y_val.to_frame().to_csv('./output_data/y_val', index=False)\n",
    "\n",
    "_ = X_test.to_csv('./output_data/X_test', index=False)\n",
    "_ = y_test.to_frame().to_csv('./output_data/y_test', index=False)"
   ]
  },
  {
   "cell_type": "code",
   "execution_count": 38,
   "id": "4d3a1018-c762-4d6c-898d-7288a810e624",
   "metadata": {},
   "outputs": [
    {
     "name": "stdout",
     "output_type": "stream",
     "text": [
      "CPU times: user 21.5 ms, sys: 1.58 ms, total: 23.1 ms\n",
      "Wall time: 21.9 ms\n"
     ]
    }
   ],
   "source": [
    "%%time\n",
    "X_train = pd.read_csv('./output_data/X_train/*')\n",
    "y_train = pd.read_csv('./output_data/y_train/*')\n",
    "y_train = y_train[y_train.columns[0]]\n",
    "\n",
    "X_val = pd.read_csv('./output_data/X_val/*')\n",
    "y_val = pd.read_csv('./output_data/y_val/*')\n",
    "y_val = y_val[y_val.columns[0]]\n",
    "\n",
    "X_test = pd.read_csv('./output_data/X_test/*')\n",
    "y_test = pd.read_csv('./output_data/y_test/*')\n",
    "y_test = y_test[y_test.columns[0]]"
   ]
  },
  {
   "cell_type": "code",
   "execution_count": 39,
   "id": "1a446021-ab19-4994-b9c1-6e9236c06ee1",
   "metadata": {},
   "outputs": [],
   "source": [
    "del df, df_input"
   ]
  },
  {
   "cell_type": "markdown",
   "id": "e7ce1eac-7cf9-478d-a17b-529327f0d23c",
   "metadata": {},
   "source": [
    "# Dimensionality Reduction (2D)"
   ]
  },
  {
   "cell_type": "markdown",
   "id": "72db5672-09cb-4c57-9645-a7b280694800",
   "metadata": {},
   "source": [
    "## PCA"
   ]
  },
  {
   "cell_type": "code",
   "execution_count": 40,
   "id": "7abef570-f72d-49cf-b921-9af6c1a24f7a",
   "metadata": {},
   "outputs": [
    {
     "name": "stdout",
     "output_type": "stream",
     "text": [
      "CPU times: user 190 ms, sys: 15 ms, total: 205 ms\n",
      "Wall time: 2.84 s\n"
     ]
    }
   ],
   "source": [
    "%%time\n",
    "pca = PCA(client=client, n_components=2, random_state=random_seed)\n",
    "X_train_pca = pca.fit_transform(X_train)"
   ]
  },
  {
   "cell_type": "code",
   "execution_count": 41,
   "id": "60f6d6e5-e4cf-4f22-8ba2-51eea1db9911",
   "metadata": {},
   "outputs": [],
   "source": [
    "del pca, X_train_pca"
   ]
  },
  {
   "cell_type": "markdown",
   "id": "be5f63f0-a278-47b1-8341-eb2cc40bd3c3",
   "metadata": {},
   "source": [
    "## TruncatedSVD"
   ]
  },
  {
   "cell_type": "code",
   "execution_count": 42,
   "id": "b613b52f-fe27-4d49-ae98-ba965601978f",
   "metadata": {},
   "outputs": [
    {
     "name": "stdout",
     "output_type": "stream",
     "text": [
      "CPU times: user 237 ms, sys: 19.8 ms, total: 257 ms\n",
      "Wall time: 2.08 s\n"
     ]
    }
   ],
   "source": [
    "%%time\n",
    "trunSVD = TruncatedSVD(client=client, n_components=2, random_state=random_seed)\n",
    "X_train_trunSVD = trunSVD.fit_transform(X_train)"
   ]
  },
  {
   "cell_type": "code",
   "execution_count": 43,
   "id": "1bf56fa6-0f34-4022-81d1-659c0dcc801c",
   "metadata": {},
   "outputs": [],
   "source": [
    "del trunSVD, X_train_trunSVD"
   ]
  },
  {
   "cell_type": "markdown",
   "id": "27250faa",
   "metadata": {
    "id": "27250faa"
   },
   "source": [
    "# Models"
   ]
  },
  {
   "cell_type": "markdown",
   "id": "5a7c080c",
   "metadata": {
    "id": "5a7c080c"
   },
   "source": [
    "## OLS Regression"
   ]
  },
  {
   "cell_type": "code",
   "execution_count": 44,
   "id": "d73eb090",
   "metadata": {
    "colab": {
     "base_uri": "https://localhost:8080/"
    },
    "executionInfo": {
     "elapsed": 1437,
     "status": "ok",
     "timestamp": 1649137999472,
     "user": {
      "displayName": "Jonathan Cosme",
      "userId": "03866196755566426705"
     },
     "user_tz": 300
    },
    "id": "d73eb090",
    "outputId": "4f655caa-5348-4c37-a7ad-fc53f360c8c7"
   },
   "outputs": [
    {
     "name": "stdout",
     "output_type": "stream",
     "text": [
      "CPU times: user 183 ms, sys: 4.5 ms, total: 188 ms\n",
      "Wall time: 726 ms\n"
     ]
    },
    {
     "data": {
      "text/plain": [
       "<cuml.dask.linear_model.linear_regression.LinearRegression at 0x7f1a5c2b8460>"
      ]
     },
     "execution_count": 44,
     "metadata": {},
     "output_type": "execute_result"
    }
   ],
   "source": [
    "%%time\n",
    "reg = LinearRegression(client=client)\n",
    "reg.fit(X_train, y_train)"
   ]
  },
  {
   "cell_type": "code",
   "execution_count": 45,
   "id": "57b94fac-fc40-4951-895a-b0d519ab6e2a",
   "metadata": {},
   "outputs": [],
   "source": [
    "del reg"
   ]
  },
  {
   "cell_type": "markdown",
   "id": "2a764282",
   "metadata": {
    "id": "2a764282"
   },
   "source": [
    "## K-Means"
   ]
  },
  {
   "cell_type": "code",
   "execution_count": 46,
   "id": "069ea71f-d797-48ee-8db2-ecebb0f19a46",
   "metadata": {},
   "outputs": [
    {
     "data": {
      "text/plain": [
       "2"
      ]
     },
     "execution_count": 46,
     "metadata": {},
     "output_type": "execute_result"
    }
   ],
   "source": [
    "n_clusters = y_train.unique().compute().shape[0]\n",
    "n_clusters"
   ]
  },
  {
   "cell_type": "code",
   "execution_count": 47,
   "id": "395fe7b3",
   "metadata": {
    "colab": {
     "base_uri": "https://localhost:8080/"
    },
    "executionInfo": {
     "elapsed": 2839,
     "status": "ok",
     "timestamp": 1649138034847,
     "user": {
      "displayName": "Jonathan Cosme",
      "userId": "03866196755566426705"
     },
     "user_tz": 300
    },
    "id": "395fe7b3",
    "outputId": "049c9512-dab2-4bfa-ae47-794e48de83af"
   },
   "outputs": [
    {
     "name": "stdout",
     "output_type": "stream",
     "text": [
      "CPU times: user 56.7 ms, sys: 14.6 ms, total: 71.3 ms\n",
      "Wall time: 1.05 s\n"
     ]
    },
    {
     "data": {
      "text/plain": [
       "<cuml.dask.cluster.kmeans.KMeans at 0x7f1a4bae6a00>"
      ]
     },
     "execution_count": 47,
     "metadata": {},
     "output_type": "execute_result"
    }
   ],
   "source": [
    "%%time\n",
    "kmeans = KMeans(n_clusters=n_clusters, random_state=random_seed, client=client)\n",
    "kmeans.fit(X_train)"
   ]
  },
  {
   "cell_type": "code",
   "execution_count": 48,
   "id": "6a0c3230-8063-4799-b162-c8036bf58f87",
   "metadata": {},
   "outputs": [],
   "source": [
    "del kmeans"
   ]
  },
  {
   "cell_type": "markdown",
   "id": "406d2cf6-eb92-423a-8697-0e3fca0c7996",
   "metadata": {},
   "source": [
    "## Gradient Boosting"
   ]
  },
  {
   "cell_type": "code",
   "execution_count": 49,
   "id": "761bbea7-351a-4baf-b098-5beb1947f13f",
   "metadata": {},
   "outputs": [
    {
     "name": "stdout",
     "output_type": "stream",
     "text": [
      "CPU times: user 54.1 ms, sys: 9.64 ms, total: 63.8 ms\n",
      "Wall time: 380 ms\n"
     ]
    }
   ],
   "source": [
    "%%time\n",
    "dtrain = DaskDMatrix(client, X_train, y_train)"
   ]
  },
  {
   "cell_type": "code",
   "execution_count": 50,
   "id": "bb20698c-0d16-4444-b56c-e31c49f3a249",
   "metadata": {},
   "outputs": [
    {
     "name": "stderr",
     "output_type": "stream",
     "text": [
      "/home/jcosme/miniconda3/envs/gvc-2/lib/python3.9/site-packages/xgboost/dask.py:884: RuntimeWarning: coroutine 'Client._wait_for_workers' was never awaited\n",
      "  client.wait_for_workers(n_workers)\n",
      "/home/jcosme/miniconda3/envs/gvc-2/lib/python3.9/site-packages/distributed/worker_state_machine.py:3649: FutureWarning: The `Worker.nthreads` attribute has been moved to `Worker.state.nthreads`\n",
      "  warnings.warn(\n",
      "[15:28:15] task [xgboost.dask-2]:tcp://127.0.0.1:38917 got new rank 0\n"
     ]
    },
    {
     "name": "stdout",
     "output_type": "stream",
     "text": [
      "CPU times: user 27.8 ms, sys: 6.85 ms, total: 34.7 ms\n",
      "Wall time: 811 ms\n"
     ]
    }
   ],
   "source": [
    "%%time\n",
    "xgb_model = xgb.dask.train(\n",
    "        client,\n",
    "    {\"tree_method\": \"gpu_hist\", \"random_state\": random_seed},\n",
    "    dtrain,\n",
    "    \n",
    ")\n"
   ]
  },
  {
   "cell_type": "code",
   "execution_count": 51,
   "id": "9870a3f2-8690-4f72-9f59-a67a3ffe619e",
   "metadata": {},
   "outputs": [],
   "source": [
    "del xgb"
   ]
  },
  {
   "cell_type": "code",
   "execution_count": 52,
   "id": "5be5fca3-48cf-4ce2-8473-63fe749dede3",
   "metadata": {},
   "outputs": [],
   "source": [
    "client.shutdown()"
   ]
  },
  {
   "cell_type": "code",
   "execution_count": 53,
   "id": "e9e282f0-d9a0-4806-b488-366070837964",
   "metadata": {},
   "outputs": [],
   "source": [
    "del client"
   ]
  },
  {
   "cell_type": "code",
   "execution_count": null,
   "id": "10e1e1fc-bb57-4f9c-a0d8-a5735435d9c6",
   "metadata": {},
   "outputs": [],
   "source": []
  }
 ],
 "metadata": {
  "accelerator": "GPU",
  "colab": {
   "collapsed_sections": [],
   "machine_shape": "hm",
   "name": "GPU Counterfeit Drug Detection.ipynb",
   "provenance": []
  },
  "kernelspec": {
   "display_name": "gvc-2",
   "language": "python",
   "name": "gvc-2"
  },
  "language_info": {
   "codemirror_mode": {
    "name": "ipython",
    "version": 3
   },
   "file_extension": ".py",
   "mimetype": "text/x-python",
   "name": "python",
   "nbconvert_exporter": "python",
   "pygments_lexer": "ipython3",
   "version": "3.9.13"
  }
 },
 "nbformat": 4,
 "nbformat_minor": 5
}
